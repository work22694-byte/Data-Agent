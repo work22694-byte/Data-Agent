{
 "cells": [
  {
   "metadata": {
    "ExecuteTime": {
     "end_time": "2025-10-08T05:32:43.905705Z",
     "start_time": "2025-10-08T05:32:39.612904Z"
    }
   },
   "cell_type": "code",
   "source": [
    "from Brain import BrainAgent\n",
    "brain = BrainAgent()\n",
    "brain.handle_input(\"WHO YOU ARE \")"
   ],
   "id": "b4590d817c36bdb5",
   "outputs": [
    {
     "data": {
      "text/plain": [
       "\"I'm your friendly assistant here to help you with anything you need! How’s your day going?\""
      ]
     },
     "execution_count": 2,
     "metadata": {},
     "output_type": "execute_result"
    }
   ],
   "execution_count": 2
  }
 ],
 "metadata": {
  "kernelspec": {
   "display_name": "Python 3",
   "language": "python",
   "name": "python3"
  },
  "language_info": {
   "codemirror_mode": {
    "name": "ipython",
    "version": 2
   },
   "file_extension": ".py",
   "mimetype": "text/x-python",
   "name": "python",
   "nbconvert_exporter": "python",
   "pygments_lexer": "ipython2",
   "version": "2.7.6"
  }
 },
 "nbformat": 4,
 "nbformat_minor": 5
}
